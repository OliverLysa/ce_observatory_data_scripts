{
 "cells": [
  {
   "cell_type": "code",
   "execution_count": null,
   "id": "84d189e4",
   "metadata": {},
   "outputs": [],
   "source": [
    "# https://reliability.readthedocs.io/en/latest/Fitting%20all%20available%20distributions%20to%20data.html\n",
    "\n",
    "from reliability.Fitters import Fit_Everything\n",
    "# data created using Weibull_Distribution(alpha=50,beta=2), and rounded to nearest integer\n",
    "data = [92, 44, 94, 56, 54, 24, 96, 3, 27, 37, 61, 23, 70, 101, 21, 47, 4, 34, 10, 88, 37, 86, 62, 70, 21, 13, 47, 21, 57, 36, 43, 83, 42, 16, 20, 44, 43, 50, 35, 51, 35, 49, 60, 22, 34, 41, 53, 27, 44, 49]\n",
    "Fit_Everything(failures=data, show_histogram_plot=False, show_probability_plot=False, show_PP_plot=False, show_best_distribution_probability_plot=False)"
   ]
  },
  {
   "cell_type": "code",
   "execution_count": null,
   "id": "81068a72",
   "metadata": {},
   "outputs": [],
   "source": [
    "from reliability.Fitters import Fit_Everything\n",
    "from reliability.Distributions import Weibull_Distribution\n",
    "from reliability.Other_functions import make_right_censored_data\n",
    "\n",
    "raw_data = Weibull_Distribution(alpha=12, beta=3).random_samples(100, seed=2)  # create some data\n",
    "data = make_right_censored_data(raw_data, threshold=14)  # right censor the data\n",
    "results = Fit_Everything(failures=data.failures, right_censored=data.right_censored)  # fit all the models\n",
    "print('The best fitting distribution was', results.best_distribution_name, 'which had parameters', results.best_distribution.parameters)"
   ]
  }
 ],
 "metadata": {
  "kernelspec": {
   "display_name": "Python 3 (ipykernel)",
   "language": "python",
   "name": "python3"
  },
  "language_info": {
   "codemirror_mode": {
    "name": "ipython",
    "version": 3
   },
   "file_extension": ".py",
   "mimetype": "text/x-python",
   "name": "python",
   "nbconvert_exporter": "python",
   "pygments_lexer": "ipython3",
   "version": "3.10.9"
  }
 },
 "nbformat": 4,
 "nbformat_minor": 5
}
