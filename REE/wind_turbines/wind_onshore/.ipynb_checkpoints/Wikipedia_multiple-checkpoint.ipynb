{
 "cells": [
  {
   "cell_type": "code",
   "execution_count": 1,
   "id": "e8b97d7d",
   "metadata": {},
   "outputs": [],
   "source": [
    "# Import libraries from which to call functions e.g. urllib \n",
    "import urllib.request\n",
    "import traceback\n",
    "import pandas as pd  # library for data analysis\n",
    "import requests  # library to handle requests\n",
    "from bs4 import BeautifulSoup  # library to parse HTML documents\n",
    "import pyproj\n",
    "import traceback\n",
    "from lat_lon_parser import parse\n",
    "import geopy.distance"
   ]
  },
  {
   "cell_type": "code",
   "execution_count": 2,
   "id": "41752174",
   "metadata": {},
   "outputs": [
    {
     "name": "stdout",
     "output_type": "stream",
     "text": [
      "200\n"
     ]
    },
    {
     "name": "stderr",
     "output_type": "stream",
     "text": [
      "/var/folders/vc/gszmszx94qn2yq038bgz88mr0000gn/T/ipykernel_75718/1470382607.py:11: FutureWarning: Passing literal html to 'read_html' is deprecated and will be removed in a future version. To read from a literal string, wrap it in a 'StringIO' object.\n",
      "  df = pd.read_html(str(table))\n"
     ]
    }
   ],
   "source": [
    "# Get the response in the form of html by calling the URL\n",
    "wikiurl = \"https://en.wikipedia.org/wiki/List_of_onshore_wind_farms_in_the_United_Kingdom\"\n",
    "table_class = \"wikitable sortable jquery-tablesorter\"\n",
    "response = requests.get(wikiurl)\n",
    "# print response status from call. If 200, then there is success in retrieval of data\n",
    "print(response.status_code)\n",
    "\n",
    "# Parse data table from the html into a beautifulsoup object\n",
    "soup = BeautifulSoup(response.text, 'html.parser')\n",
    "table = soup.find_all('table', {'class': \"wikitable\"})[3]\n",
    "df = pd.read_html(str(table))\n",
    "# Convert that list object to a dataframe\n",
    "Wales = pd.DataFrame(df[0])"
   ]
  },
  {
   "cell_type": "code",
   "execution_count": 3,
   "id": "aa93ee9b",
   "metadata": {
    "scrolled": true
   },
   "outputs": [
    {
     "ename": "NameError",
     "evalue": "name 'England' is not defined",
     "output_type": "error",
     "traceback": [
      "\u001b[0;31m---------------------------------------------------------------------------\u001b[0m",
      "\u001b[0;31mNameError\u001b[0m                                 Traceback (most recent call last)",
      "Cell \u001b[0;32mIn[3], line 1\u001b[0m\n\u001b[0;32m----> 1\u001b[0m Total_onshore \u001b[38;5;241m=\u001b[39m pd\u001b[38;5;241m.\u001b[39mconcat([\u001b[43mEngland\u001b[49m, Wales, Ireland, Scotland], axis\u001b[38;5;241m=\u001b[39m\u001b[38;5;241m0\u001b[39m)\n\u001b[1;32m      3\u001b[0m \u001b[38;5;66;03m# Filter to operational in the development status column\u001b[39;00m\n\u001b[1;32m      4\u001b[0m filter_list_status \u001b[38;5;241m=\u001b[39m [\u001b[38;5;124m'\u001b[39m\u001b[38;5;124m[1]\u001b[39m\u001b[38;5;124m'\u001b[39m]\n",
      "\u001b[0;31mNameError\u001b[0m: name 'England' is not defined"
     ]
    }
   ],
   "source": [
    "Total_onshore = pd.concat([England, Wales, Ireland, Scotland], axis=0)\n",
    "\n",
    "# Filter to operational in the development status column\n",
    "filter_list_status = ['[1]']\n",
    "Total_onshore = Total_onshore[~Total_onshore.Website.isin(filter_list_status)]\n",
    "\n",
    "# Keep wanted columns in the dataframe\n",
    "Total_onshore = Total_onshore[['Wind farm', 'Model', 'Owner', 'Coordinates']]\n",
    "Total_onshore = Total_onshore.rename(columns={'Wind farm': 'Name'})\n",
    "\n",
    "# Remove leading and trailing spaces in name column to make it easier to match across data tables \n",
    "Total_onshore['Name'] = Total_onshore['Name'].str.strip()\n",
    "\n",
    "Total_onshore['Coordinates'] = Total_onshore['Coordinates'].replace(r\"\\(.*/)\", \"\")\n",
    "\n",
    "Total_onshore\n",
    "\n",
    "Total_onshore.to_csv('Total_onshore.csv', index=False)"
   ]
  }
 ],
 "metadata": {
  "kernelspec": {
   "display_name": "Python 3 (ipykernel)",
   "language": "python",
   "name": "python3"
  },
  "language_info": {
   "codemirror_mode": {
    "name": "ipython",
    "version": 3
   },
   "file_extension": ".py",
   "mimetype": "text/x-python",
   "name": "python",
   "nbconvert_exporter": "python",
   "pygments_lexer": "ipython3",
   "version": "3.10.9"
  }
 },
 "nbformat": 4,
 "nbformat_minor": 5
}
